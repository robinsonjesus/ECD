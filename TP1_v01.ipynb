{
 "cells": [
  {
   "cell_type": "markdown",
   "id": "27f24c6b",
   "metadata": {},
   "source": [
    "# Fundamentos de análisis de datos\n",
    "## Trabajo Práctico 1"
   ]
  },
  {
   "cell_type": "markdown",
   "id": "40823eec",
   "metadata": {},
   "source": [
    "### Ejercicio 1\n",
    "En el archivo ¨Datos trabajo 1.xls¨ encontrará los datos correspondientes a 173 personas que están siguiendo una dieta, en las que se ha registrado el sexo (Sexo), el consumo de grasas saturadas (Grasas sat), el consumo de alcohol (Alcohol) y el total de calorías (Calorías). El valor que indica dato faltante es 999, 99 para todas las variables."
   ]
  },
  {
   "cell_type": "code",
   "execution_count": 1,
   "id": "43552502",
   "metadata": {},
   "outputs": [],
   "source": [
    "data = read.csv(\"datos_tp1.csv\")"
   ]
  },
  {
   "cell_type": "markdown",
   "id": "c53abf48",
   "metadata": {},
   "source": [
    "### Ejercicio 1.a.\n",
    "\n",
    "Reemplace los datos faltantes con NA.\n",
    "\n",
    "Lo hago por asignación directa."
   ]
  },
  {
   "cell_type": "code",
   "execution_count": 3,
   "id": "1046ec1a",
   "metadata": {},
   "outputs": [
    {
     "name": "stderr",
     "output_type": "stream",
     "text": [
      "Warning message in `[<-.factor`(`*tmp*`, thisvar, value = \"NA\"):\n",
      "\"invalid factor level, NA generated\"Warning message in `[<-.factor`(`*tmp*`, thisvar, value = \"NA\"):\n",
      "\"invalid factor level, NA generated\""
     ]
    }
   ],
   "source": [
    "# replace 999,999 (missing values) by NA\n",
    "data[data == \"999,99\"] = \"NA\"\n",
    "# rename calorías by calorias, without \"tilde\"\n",
    "names(data)[3] <- \"Calorias\""
   ]
  },
  {
   "cell_type": "markdown",
   "id": "ec2615ae",
   "metadata": {},
   "source": [
    "## Boxplots\n",
    "\n",
    "Los siguientes son gráficos de boxplot de las variables numéricas:\n",
    "+ Grasas saturadas\n",
    "+ Alcohol\n",
    "+ Calorías\n"
   ]
  },
  {
   "cell_type": "code",
   "execution_count": 63,
   "id": "c666371d",
   "metadata": {
    "scrolled": true
   },
   "outputs": [
    {
     "data": {
      "image/png": "[encoded data removed]",
      "text/plain": [
       "Plot with title \"Calorias sin outliers\""
      ]
     },
     "metadata": {},
     "output_type": "display_data"
    }
   ],
   "source": [
    "# fig.dim = c(20, 20)\n",
    "\n",
    "par(mfrow=c(4,1))\n",
    "\n",
    "# options(digits=6)\n",
    "\n",
    "data$Grasas_sat <- as.numeric(data$Grasas_sat)\n",
    "data$Alcohol <- as.numeric(data$Alcohol)\n",
    "data$Calorias <- as.numeric(data$Calorias)\n",
    "\n",
    "boxplot(data$Grasas_sat,\n",
    "        main = \"Grasas Saturadas\",\n",
    "        xlab = \"Consumo\",\n",
    "        col = \"red\",\n",
    "        border = \"black\",\n",
    "        horizontal = TRUE,\n",
    "        notch = TRUE)\n",
    "\n",
    "boxplot(data$Alcohol,\n",
    "        main = \"Alcohol\",\n",
    "        xlab = \"Consumo\",\n",
    "        col = \"blue\",\n",
    "        border = \"black\",\n",
    "        horizontal = TRUE,\n",
    "        notch = TRUE)\n",
    "\n",
    "boxplot(data$Calorias,\n",
    "        main = \"Calorias\",\n",
    "        xlab = \"Consumo\",\n",
    "        col = \"green\",\n",
    "        border = \"black\",\n",
    "        horizontal = TRUE,\n",
    "        notch = TRUE)\n",
    "\n",
    "boxplot(data$Calorias,\n",
    "        main = \"Calorias sin outliers\",\n",
    "        xlab = \"Consumo\",\n",
    "        col = \"green\",\n",
    "        border = \"black\",\n",
    "        horizontal = TRUE,\n",
    "        notch = TRUE,\n",
    "        outline=FALSE)"
   ]
  },
  {
   "cell_type": "markdown",
   "id": "6b99e96f",
   "metadata": {},
   "source": [
    "## Características de las variables"
   ]
  },
  {
   "cell_type": "code",
   "execution_count": null,
   "id": "acd39af5",
   "metadata": {},
   "outputs": [],
   "source": [
    "# Variable Grasas Saturadas\n",
    "\n",
    "mean(data$Grasas_sat, na.rm=TRUE)\n",
    "max(data$Grasas_sat, na.rm=TRUE)\n",
    "min(data$Grasas_sat, na.rm=TRUE)\n",
    "quantile(data$Grasas_sat, na.rm=TRUE)\n",
    "IQR(data$Grasas_sat, na.rm=TRUE)"
   ]
  },
  {
   "cell_type": "code",
   "execution_count": 89,
   "id": "7944c684",
   "metadata": {},
   "outputs": [
    {
     "data": {
      "text/html": [
       "68.2294117647059"
      ],
      "text/latex": [
       "68.2294117647059"
      ],
      "text/markdown": [
       "68.2294117647059"
      ],
      "text/plain": [
       "[1] 68.22941"
      ]
     },
     "metadata": {},
     "output_type": "display_data"
    },
    {
     "data": {
      "text/html": [
       "149"
      ],
      "text/latex": [
       "149"
      ],
      "text/markdown": [
       "149"
      ],
      "text/plain": [
       "[1] 149"
      ]
     },
     "metadata": {},
     "output_type": "display_data"
    },
    {
     "data": {
      "text/html": [
       "1"
      ],
      "text/latex": [
       "1"
      ],
      "text/markdown": [
       "1"
      ],
      "text/plain": [
       "[1] 1"
      ]
     },
     "metadata": {},
     "output_type": "display_data"
    },
    {
     "data": {
      "text/html": [
       "<dl class=dl-horizontal>\n",
       "\t<dt>0%</dt>\n",
       "\t\t<dd>1</dd>\n",
       "\t<dt>25%</dt>\n",
       "\t\t<dd>26.25</dd>\n",
       "\t<dt>50%</dt>\n",
       "\t\t<dd>67.5</dd>\n",
       "\t<dt>75%</dt>\n",
       "\t\t<dd>109</dd>\n",
       "\t<dt>100%</dt>\n",
       "\t\t<dd>149</dd>\n",
       "</dl>\n"
      ],
      "text/latex": [
       "\\begin{description*}\n",
       "\\item[0\\textbackslash{}\\%] 1\n",
       "\\item[25\\textbackslash{}\\%] 26.25\n",
       "\\item[50\\textbackslash{}\\%] 67.5\n",
       "\\item[75\\textbackslash{}\\%] 109\n",
       "\\item[100\\textbackslash{}\\%] 149\n",
       "\\end{description*}\n"
      ],
      "text/markdown": [
       "0%\n",
       ":   125%\n",
       ":   26.2550%\n",
       ":   67.575%\n",
       ":   109100%\n",
       ":   149\n",
       "\n"
      ],
      "text/plain": [
       "    0%    25%    50%    75%   100% \n",
       "  1.00  26.25  67.50 109.00 149.00 "
      ]
     },
     "metadata": {},
     "output_type": "display_data"
    },
    {
     "data": {
      "text/html": [
       "82.75"
      ],
      "text/latex": [
       "82.75"
      ],
      "text/markdown": [
       "82.75"
      ],
      "text/plain": [
       "[1] 82.75"
      ]
     },
     "metadata": {},
     "output_type": "display_data"
    }
   ],
   "source": [
    "# Variable Alcohol\n",
    "\n",
    "mean(data$Alcohol, na.rm=TRUE)\n",
    "max(data$Alcohol, na.rm=TRUE)\n",
    "min(data$Alcohol, na.rm=TRUE)\n",
    "quantile(data$Alcohol, na.rm=TRUE)\n",
    "IQR(data$Alcohol, na.rm=TRUE)"
   ]
  },
  {
   "cell_type": "code",
   "execution_count": 72,
   "id": "bdb48628",
   "metadata": {},
   "outputs": [
    {
     "data": {
      "text/html": [
       "32.975098265896"
      ],
      "text/latex": [
       "32.975098265896"
      ],
      "text/markdown": [
       "32.975098265896"
      ],
      "text/plain": [
       "[1] 32.9751"
      ]
     },
     "metadata": {},
     "output_type": "display_data"
    },
    {
     "data": {
      "text/html": [
       "963"
      ],
      "text/latex": [
       "963"
      ],
      "text/markdown": [
       "963"
      ],
      "text/plain": [
       "[1] 963"
      ]
     },
     "metadata": {},
     "output_type": "display_data"
    },
    {
     "data": {
      "text/html": [
       "1"
      ],
      "text/latex": [
       "1"
      ],
      "text/markdown": [
       "1"
      ],
      "text/plain": [
       "[1] 1"
      ]
     },
     "metadata": {},
     "output_type": "display_data"
    },
    {
     "data": {
      "text/html": [
       "<dl class=dl-horizontal>\n",
       "\t<dt>0%</dt>\n",
       "\t\t<dd>1</dd>\n",
       "\t<dt>25%</dt>\n",
       "\t\t<dd>1.433</dd>\n",
       "\t<dt>50%</dt>\n",
       "\t\t<dd>1.608</dd>\n",
       "\t<dt>75%</dt>\n",
       "\t\t<dd>1.781</dd>\n",
       "\t<dt>100%</dt>\n",
       "\t\t<dd>963</dd>\n",
       "</dl>\n"
      ],
      "text/latex": [
       "\\begin{description*}\n",
       "\\item[0\\textbackslash{}\\%] 1\n",
       "\\item[25\\textbackslash{}\\%] 1.433\n",
       "\\item[50\\textbackslash{}\\%] 1.608\n",
       "\\item[75\\textbackslash{}\\%] 1.781\n",
       "\\item[100\\textbackslash{}\\%] 963\n",
       "\\end{description*}\n"
      ],
      "text/markdown": [
       "0%\n",
       ":   125%\n",
       ":   1.43350%\n",
       ":   1.60875%\n",
       ":   1.781100%\n",
       ":   963\n",
       "\n"
      ],
      "text/plain": [
       "     0%     25%     50%     75%    100% \n",
       "  1.000   1.433   1.608   1.781 963.000 "
      ]
     },
     "metadata": {},
     "output_type": "display_data"
    },
    {
     "data": {
      "text/html": [
       "0.348"
      ],
      "text/latex": [
       "0.348"
      ],
      "text/markdown": [
       "0.348"
      ],
      "text/plain": [
       "[1] 0.348"
      ]
     },
     "metadata": {},
     "output_type": "display_data"
    }
   ],
   "source": [
    "# Variable Calorias\n",
    "\n",
    "mean(data$Calorias, na.rm=TRUE)\n",
    "max(data$Calorias, na.rm=TRUE)\n",
    "min(data$Calorias, na.rm=TRUE)\n",
    "quantile(data$Calorias, na.rm=TRUE)\n",
    "IQR(data$Calorias, na.rm=TRUE)"
   ]
  },
  {
   "cell_type": "code",
   "execution_count": 71,
   "id": "dc7f4a28",
   "metadata": {
    "scrolled": true
   },
   "outputs": [
    {
     "data": {
      "text/html": [
       "1.59542073170732"
      ],
      "text/latex": [
       "1.59542073170732"
      ],
      "text/markdown": [
       "1.59542073170732"
      ],
      "text/plain": [
       "[1] 1.595421"
      ]
     },
     "metadata": {},
     "output_type": "display_data"
    },
    {
     "data": {
      "text/html": [
       "2.3"
      ],
      "text/latex": [
       "2.3"
      ],
      "text/markdown": [
       "2.3"
      ],
      "text/plain": [
       "[1] 2.3"
      ]
     },
     "metadata": {},
     "output_type": "display_data"
    },
    {
     "data": {
      "text/html": [
       "1"
      ],
      "text/latex": [
       "1"
      ],
      "text/markdown": [
       "1"
      ],
      "text/plain": [
       "[1] 1"
      ]
     },
     "metadata": {},
     "output_type": "display_data"
    },
    {
     "data": {
      "text/html": [
       "<dl class=dl-horizontal>\n",
       "\t<dt>0%</dt>\n",
       "\t\t<dd>1</dd>\n",
       "\t<dt>25%</dt>\n",
       "\t\t<dd>1.424</dd>\n",
       "\t<dt>50%</dt>\n",
       "\t\t<dd>1.5875</dd>\n",
       "\t<dt>75%</dt>\n",
       "\t\t<dd>1.758</dd>\n",
       "\t<dt>100%</dt>\n",
       "\t\t<dd>2.3</dd>\n",
       "</dl>\n"
      ],
      "text/latex": [
       "\\begin{description*}\n",
       "\\item[0\\textbackslash{}\\%] 1\n",
       "\\item[25\\textbackslash{}\\%] 1.424\n",
       "\\item[50\\textbackslash{}\\%] 1.5875\n",
       "\\item[75\\textbackslash{}\\%] 1.758\n",
       "\\item[100\\textbackslash{}\\%] 2.3\n",
       "\\end{description*}\n"
      ],
      "text/markdown": [
       "0%\n",
       ":   125%\n",
       ":   1.42450%\n",
       ":   1.587575%\n",
       ":   1.758100%\n",
       ":   2.3\n",
       "\n"
      ],
      "text/plain": [
       "    0%    25%    50%    75%   100% \n",
       "1.0000 1.4240 1.5875 1.7580 2.3000 "
      ]
     },
     "metadata": {},
     "output_type": "display_data"
    },
    {
     "data": {
      "text/html": [
       "0.334"
      ],
      "text/latex": [
       "0.334"
      ],
      "text/markdown": [
       "0.334"
      ],
      "text/plain": [
       "[1] 0.334"
      ]
     },
     "metadata": {},
     "output_type": "display_data"
    }
   ],
   "source": [
    "# Variable Calorias sin outliers\n",
    "\n",
    "cal_out <- data$Calorias[!data$Calorias %in% boxplot.stats(data$Calorias)$out]\n",
    "\n",
    "mean(cal_out, na.rm=TRUE)\n",
    "max(cal_out, na.rm=TRUE)\n",
    "min(cal_out, na.rm=TRUE)\n",
    "quantile(cal_out, na.rm=TRUE)\n",
    "IQR(cal_out, na.rm=TRUE)"
   ]
  },
  {
   "cell_type": "markdown",
   "id": "e4d6fc14",
   "metadata": {},
   "source": [
    "## Ejercicio 1 c"
   ]
  },
  {
   "cell_type": "code",
   "execution_count": 73,
   "id": "c4c221ab",
   "metadata": {},
   "outputs": [],
   "source": [
    "data$Alc_rank <- ifelse((data$Calorias <= 1.700), \"CATE 1\", \"CATE 3\")"
   ]
  },
  {
   "cell_type": "code",
   "execution_count": 86,
   "id": "5ffe4358",
   "metadata": {},
   "outputs": [],
   "source": [
    "cate1 = data[data$Alc_rank == \"CATE 1\", ]\n",
    "cate3 = data[data$Alc_rank == \"CATE 3\", ]"
   ]
  },
  {
   "cell_type": "code",
   "execution_count": 90,
   "id": "be2a5458",
   "metadata": {},
   "outputs": [
    {
     "data": {
      "text/html": [
       "73.0714285714286"
      ],
      "text/latex": [
       "73.0714285714286"
      ],
      "text/markdown": [
       "73.0714285714286"
      ],
      "text/plain": [
       "[1] 73.07143"
      ]
     },
     "metadata": {},
     "output_type": "display_data"
    },
    {
     "data": {
      "text/html": [
       "149"
      ],
      "text/latex": [
       "149"
      ],
      "text/markdown": [
       "149"
      ],
      "text/plain": [
       "[1] 149"
      ]
     },
     "metadata": {},
     "output_type": "display_data"
    },
    {
     "data": {
      "text/html": [
       "1"
      ],
      "text/latex": [
       "1"
      ],
      "text/markdown": [
       "1"
      ],
      "text/plain": [
       "[1] 1"
      ]
     },
     "metadata": {},
     "output_type": "display_data"
    },
    {
     "data": {
      "text/html": [
       "<dl class=dl-horizontal>\n",
       "\t<dt>0%</dt>\n",
       "\t\t<dd>1</dd>\n",
       "\t<dt>25%</dt>\n",
       "\t\t<dd>16.75</dd>\n",
       "\t<dt>50%</dt>\n",
       "\t\t<dd>81.5</dd>\n",
       "\t<dt>75%</dt>\n",
       "\t\t<dd>121.25</dd>\n",
       "\t<dt>100%</dt>\n",
       "\t\t<dd>149</dd>\n",
       "</dl>\n"
      ],
      "text/latex": [
       "\\begin{description*}\n",
       "\\item[0\\textbackslash{}\\%] 1\n",
       "\\item[25\\textbackslash{}\\%] 16.75\n",
       "\\item[50\\textbackslash{}\\%] 81.5\n",
       "\\item[75\\textbackslash{}\\%] 121.25\n",
       "\\item[100\\textbackslash{}\\%] 149\n",
       "\\end{description*}\n"
      ],
      "text/markdown": [
       "0%\n",
       ":   125%\n",
       ":   16.7550%\n",
       ":   81.575%\n",
       ":   121.25100%\n",
       ":   149\n",
       "\n"
      ],
      "text/plain": [
       "    0%    25%    50%    75%   100% \n",
       "  1.00  16.75  81.50 121.25 149.00 "
      ]
     },
     "metadata": {},
     "output_type": "display_data"
    },
    {
     "data": {
      "text/html": [
       "104.5"
      ],
      "text/latex": [
       "104.5"
      ],
      "text/markdown": [
       "104.5"
      ],
      "text/plain": [
       "[1] 104.5"
      ]
     },
     "metadata": {},
     "output_type": "display_data"
    }
   ],
   "source": [
    "# Variable Alcohol para quienes consumen menos de 1700 calorías\n",
    "\n",
    "mean(cate1$Alcohol, na.rm=TRUE)\n",
    "max(cate1$Alcohol, na.rm=TRUE)\n",
    "min(cate1$Alcohol, na.rm=TRUE)\n",
    "quantile(cate1$Alcohol, na.rm=TRUE)\n",
    "IQR(cate1$Alcohol, na.rm=TRUE)"
   ]
  },
  {
   "cell_type": "code",
   "execution_count": 91,
   "id": "b076fe7e",
   "metadata": {},
   "outputs": [
    {
     "data": {
      "text/html": [
       "58.8793103448276"
      ],
      "text/latex": [
       "58.8793103448276"
      ],
      "text/markdown": [
       "58.8793103448276"
      ],
      "text/plain": [
       "[1] 58.87931"
      ]
     },
     "metadata": {},
     "output_type": "display_data"
    },
    {
     "data": {
      "text/html": [
       "113"
      ],
      "text/latex": [
       "113"
      ],
      "text/markdown": [
       "113"
      ],
      "text/plain": [
       "[1] 113"
      ]
     },
     "metadata": {},
     "output_type": "display_data"
    },
    {
     "data": {
      "text/html": [
       "1"
      ],
      "text/latex": [
       "1"
      ],
      "text/markdown": [
       "1"
      ],
      "text/plain": [
       "[1] 1"
      ]
     },
     "metadata": {},
     "output_type": "display_data"
    },
    {
     "data": {
      "text/html": [
       "<dl class=dl-horizontal>\n",
       "\t<dt>0%</dt>\n",
       "\t\t<dd>1</dd>\n",
       "\t<dt>25%</dt>\n",
       "\t\t<dd>41.25</dd>\n",
       "\t<dt>50%</dt>\n",
       "\t\t<dd>55.5</dd>\n",
       "\t<dt>75%</dt>\n",
       "\t\t<dd>81.75</dd>\n",
       "\t<dt>100%</dt>\n",
       "\t\t<dd>113</dd>\n",
       "</dl>\n"
      ],
      "text/latex": [
       "\\begin{description*}\n",
       "\\item[0\\textbackslash{}\\%] 1\n",
       "\\item[25\\textbackslash{}\\%] 41.25\n",
       "\\item[50\\textbackslash{}\\%] 55.5\n",
       "\\item[75\\textbackslash{}\\%] 81.75\n",
       "\\item[100\\textbackslash{}\\%] 113\n",
       "\\end{description*}\n"
      ],
      "text/markdown": [
       "0%\n",
       ":   125%\n",
       ":   41.2550%\n",
       ":   55.575%\n",
       ":   81.75100%\n",
       ":   113\n",
       "\n"
      ],
      "text/plain": [
       "    0%    25%    50%    75%   100% \n",
       "  1.00  41.25  55.50  81.75 113.00 "
      ]
     },
     "metadata": {},
     "output_type": "display_data"
    },
    {
     "data": {
      "text/html": [
       "40.5"
      ],
      "text/latex": [
       "40.5"
      ],
      "text/markdown": [
       "40.5"
      ],
      "text/plain": [
       "[1] 40.5"
      ]
     },
     "metadata": {},
     "output_type": "display_data"
    }
   ],
   "source": [
    "# Variable Alcohol para quienes consumen más de 1700 calorías\n",
    "\n",
    "mean(cate3$Alcohol, na.rm=TRUE)\n",
    "max(cate3$Alcohol, na.rm=TRUE)\n",
    "min(cate3$Alcohol, na.rm=TRUE)\n",
    "quantile(cate3$Alcohol, na.rm=TRUE)\n",
    "IQR(cate3$Alcohol, na.rm=TRUE)"
   ]
  }
 ],
 "metadata": {
  "kernelspec": {
   "display_name": "R",
   "language": "R",
   "name": "ir"
  },
  "language_info": {
   "codemirror_mode": "r",
   "file_extension": ".r",
   "mimetype": "text/x-r-source",
   "name": "R",
   "pygments_lexer": "r",
   "version": "3.6.1"
  }
 },
 "nbformat": 4,
 "nbformat_minor": 5
}
